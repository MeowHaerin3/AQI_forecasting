{
 "cells": [
  {
   "cell_type": "code",
   "execution_count": null,
   "metadata": {},
   "outputs": [],
   "source": [
    "print(\"hello\")"
   ]
  },
  {
   "cell_type": "code",
   "execution_count": null,
   "metadata": {},
   "outputs": [],
   "source": [
    "import pandas as pd\n",
    "from statsmodels.tsa.arima_model import ARIMA\n",
    "\n",
    "import matplotlib.pyplot as plt\n",
    "import numpy as np # linear algebra\n",
    "import os\n",
    "import aqi\n",
    "import missingno as msno\n",
    "from fancyimpute import SimpleFill, KNN, MatrixFactorization, IterativeImputer \n",
    "\n",
    "import matplotlib.pyplot as plt\n",
    "import seaborn as sns\n",
    "sns.set_style('whitegrid')\n",
    "\n",
    "data_path = r\"D:\\AQI_forecasting\\backend\\data\\bangkok-air-quality.csv\"\n",
    "aqi_data = pd.read_csv(data_path)\n",
    "aqi_data.head()"
   ]
  },
  {
   "cell_type": "code",
   "execution_count": null,
   "metadata": {},
   "outputs": [],
   "source": [
    "def remove_whitespace_header(df):\n",
    "    df.columns = df.columns.str.strip()\n",
    "    return df\n",
    "\n",
    "def update_data_aqi(df):\n",
    "    return df\n",
    "\n",
    "def cleaning_data(df):\n",
    "    # Remove whitespace from column headers\n",
    "    df = remove_whitespace_header(df)\n",
    "    \n",
    "    # Ensure 'date' column exists before processing\n",
    "    if 'date' not in df.columns:\n",
    "        raise KeyError(\"'date' column is missing in the DataFrame.\")\n",
    "    \n",
    "    # Convert 'date' column to datetime\n",
    "    df['date'] = pd.to_datetime(df['date'], errors='coerce')\n",
    "    \n",
    "    # Convert other columns to numeric, if applicable\n",
    "    for col in df.columns:\n",
    "        if col != 'date':  # Skip 'date' column\n",
    "            df[col] = pd.to_numeric(df[col], errors='coerce')\n",
    "    \n",
    "    # Sort by 'date' and reset index\n",
    "    df = df.sort_values('date').reset_index(drop=True)\n",
    "    return df\n",
    "\n",
    "def extract_aqi(df):\n",
    "    aqi_list = []\n",
    "    df = df.replace({'NaT': np.nan})\n",
    "    col_name = df.columns\n",
    "    \n",
    "    for idx, row in df.iterrows():\n",
    "        # Initialize variables based on row data\n",
    "        aqi_val = row['aqi'] if 'aqi' in col_name else np.nan\n",
    "        pollutants = ['pm25', 'pm10', 'o3', 'no2', 'so2', 'co']\n",
    "        \n",
    "        # Create the input list for AQI calculation, filtering out NaN values\n",
    "        input_list = [\n",
    "            (pollutant, row[pollutant]) \n",
    "            for pollutant in pollutants \n",
    "            if pollutant in df.columns and not np.isnan(row[pollutant])\n",
    "        ]\n",
    "        \n",
    "        # Handle AQI calculation if necessary\n",
    "        if np.isnan(aqi_val) and len(input_list) > 1:\n",
    "            try:\n",
    "                calc_aqi = aqi.to_aqi(input_list, algo=aqi.ALGO_MEP)\n",
    "                aqi_list.append(float(calc_aqi))\n",
    "            except ValueError:\n",
    "                aqi_list.append(np.nan)  # In case of any error, append NaN\n",
    "        elif np.isnan(aqi_val) and len(input_list) == 1:\n",
    "            val = input_list[0]\n",
    "            try:\n",
    "                # Call to_aqi() with the 'algo' argument explicitly\n",
    "                calc_aqi = aqi.to_aqi([val], algo=aqi.ALGO_MEP)  # Pass as a list and specify the algorithm\n",
    "                aqi_list.append(calc_aqi)\n",
    "            except ValueError:\n",
    "                aqi_list.append(np.nan)  # In case of any error, append NaN\n",
    "        elif len(input_list) < 1:\n",
    "            aqi_list.append(np.nan)\n",
    "        else:\n",
    "            aqi_list.append(float(aqi_val))\n",
    "        \n",
    "    df['aqi'] = aqi_list\n",
    "    return df\n",
    "\n",
    "    \n",
    "aqi_cleaning = cleaning_data(aqi_data)\n",
    "aqi_cleaning = extract_aqi(aqi_cleaning)\n",
    "aqi_cleaning\n"
   ]
  },
  {
   "cell_type": "code",
   "execution_count": null,
   "metadata": {},
   "outputs": [],
   "source": [
    "cols = ['date','aqi']\n",
    "aqi_complete = aqi_cleaning[cols]\n",
    "aqi_complete['aqi'] = pd.to_numeric(aqi_complete['aqi'], errors='coerce')\n",
    "\n",
    "aqi_complete = aqi_complete[aqi_complete.date >= '2016-01-01'].reset_index(drop=True)\n",
    "aqi_complete = aqi_complete.rename(columns={'aqi': 'bangkok_aqi'}).set_index('date')\n",
    "aqi_complete.head()\n",
    "aqi_complete.tail()\n",
    "\n",
    "\n",
    "\n",
    "print(aqi_complete.index.min())\n",
    "print(aqi_complete.index.max())"
   ]
  },
  {
   "cell_type": "code",
   "execution_count": 5,
   "metadata": {},
   "outputs": [],
   "source": [
    "def plot_imputation(data_series, imputed_sf, imputed_knn, imputed_mice, start_date, end_date):\n",
    "    df = pd.DataFrame(data_series)\n",
    "    \n",
    "    df['sf'] = np.squeeze(imputed_sf)\n",
    "    df['knn'] = np.squeeze(imputed_knn)\n",
    "    df['mice'] = np.squeeze(imputed_mice)\n",
    "    \n",
    "    \n",
    "    df = df[start_date:end_date]\n",
    "    \n",
    "    fig, axes = plt.subplots(3, 1, figsize=(15, 4 * 6), dpi=100)\n",
    "    \n",
    "    axes[0].plot(df.index, df.sf, marker='o', color='red', label='Simple Fill')\n",
    "    axes[0].plot(df.index, df[data_series.name], marker='o', color='blue', label='Original Data')\n",
    "    axes[0].set_title('Simple Fill (Gaussian Noise)')\n",
    "    axes[0].legend()\n",
    "    \n",
    "    axes[1].plot(df.index, df.knn, marker='o', color='red', label='KNN Imputation')\n",
    "    axes[1].plot(df.index, df[data_series.name], marker='o', color='blue', label='Original Data')\n",
    "    axes[1].set_title('KNN Imputation')\n",
    "    axes[1].legend()\n",
    "    \n",
    "    axes[2].plot(df.index, df.mice, marker='o', color='red', label='MICE Imputation')\n",
    "    axes[2].plot(df.index, df[data_series.name], marker='o', color='blue', label='Original Data')\n",
    "    axes[2].set_title('MICE Imputation')\n",
    "    axes[2].legend()\n",
    "    \n",
    "    plt.tight_layout()\n",
    "    plt.show()\n"
   ]
  },
  {
   "cell_type": "code",
   "execution_count": null,
   "metadata": {},
   "outputs": [],
   "source": [
    "aqi_complete.bangkok_aqi[aqi_complete.bangkok_aqi.isnull()==True]"
   ]
  },
  {
   "cell_type": "code",
   "execution_count": null,
   "metadata": {},
   "outputs": [],
   "source": [
    "bangkok_imputed_sf = SimpleFill(fill_method=\"random\", min_value= min(aqi_complete.bangkok_aqi.dropna())).fit_transform(aqi_complete.bangkok_aqi.values.reshape(-1,1))\n",
    "\n",
    "bangkok_imputed_knn = KNN(k=10, verbose=False).fit_transform(aqi_complete.bangkok_aqi.values.reshape(-1,1))\n",
    "\n",
    "bangkok_imputed_mice = IterativeImputer(max_iter=100, verbose=False).fit_transform(aqi_complete.bangkok_aqi.values.reshape(-1,1))\n"
   ]
  },
  {
   "cell_type": "code",
   "execution_count": null,
   "metadata": {},
   "outputs": [],
   "source": [
    "plot_imputation(aqi_complete.bangkok_aqi,\n",
    "                bangkok_imputed_sf,\n",
    "                bangkok_imputed_knn,\n",
    "                bangkok_imputed_mice,\n",
    "                start_date='2016-01-01',\n",
    "                end_date='2025-01-15'\n",
    "                )"
   ]
  },
  {
   "cell_type": "code",
   "execution_count": null,
   "metadata": {},
   "outputs": [],
   "source": [
    "plot_imputation(aqi_complete.bangkok_aqi,\n",
    "                bangkok_imputed_sf,\n",
    "                bangkok_imputed_knn,\n",
    "                bangkok_imputed_mice,\n",
    "                start_date='2016-01-01',\n",
    "                end_date='2016-06-01'\n",
    "                )"
   ]
  },
  {
   "cell_type": "code",
   "execution_count": null,
   "metadata": {},
   "outputs": [],
   "source": [
    "def extract_ymd(df):\n",
    "    df['Year'] = df['date'].dt.year\n",
    "    df['Month'] = df['date'].dt.month\n",
    "    df['Day'] = df['date'].dt.day\n",
    "    return df\n",
    "\n",
    "data = extract_ymd(aqi_complete.reset_index())\n",
    "data.head()"
   ]
  },
  {
   "cell_type": "code",
   "execution_count": null,
   "metadata": {},
   "outputs": [],
   "source": [
    "plt.Figure(figsize=(15,6), dpi=100)\n",
    "sns.lineplot(data=data, x='date', y='bangkok_aqi')\n",
    "plt.legend(['Bangkok'])\n"
   ]
  },
  {
   "cell_type": "code",
   "execution_count": null,
   "metadata": {},
   "outputs": [],
   "source": [
    "plt.Figure(figsize=(15,6), dpi=100)\n",
    "sns.lineplot(data=data, x='Month', y='bangkok_aqi', hue='Year', palette='muted', errorbar=None)\n",
    "plt.title('Bangkok')\n",
    "plt.show()"
   ]
  },
  {
   "cell_type": "code",
   "execution_count": 13,
   "metadata": {},
   "outputs": [],
   "source": [
    "import holidays\n",
    "from datetime import date, datetime\n"
   ]
  },
  {
   "cell_type": "code",
   "execution_count": 14,
   "metadata": {},
   "outputs": [],
   "source": [
    "def crawling_holiday(country):\n",
    "    thai_to_english_months = {\n",
    "        \"มกราคม\": \"Jan\", \"กุมภาพันธ์\": \"Feb\", \"มีนาคม\": \"Mar\", \"เมษายน\": \"Apr\",\n",
    "        \"พฤษภาคม\": \"May\", \"มิถุนายน\": \"Jun\", \"กรกฎาคม\": \"Jul\", \"สิงหาคม\": \"Aug\",\n",
    "        \"กันยายน\": \"Sep\", \"ตุลาคม\": \"Oct\", \"พฤศจิกายน\": \"Nov\", \"ธันวาคม\": \"Dec\"\n",
    "    }\n",
    "    df_list = []\n",
    "    \n",
    "    for year in range(2016, 2025):\n",
    "        df = pd.read_html(f\"https://www.timeanddate.com/holidays/{country}/{year}\")[0]\n",
    "\n",
    "        df.columns = df.columns.get_level_values(0)\n",
    "        df.drop(\"Unnamed: 1_level_0\", axis=1, inplace=True)\n",
    "\n",
    "        df = df.iloc[:-1]\n",
    "        df = df.dropna(how=\"all\")\n",
    "\n",
    "        # Replace Thai month names with English\n",
    "        df['Date'] = df['Date'].replace(thai_to_english_months, regex=True)\n",
    "\n",
    "        # Rearrange date components to match the format '%b %d'\n",
    "        df['Date'] = df['Date'].apply(\n",
    "            lambda x: \" \".join([part if part.isalpha() else part.zfill(2) for part in x.split()])\n",
    "        )\n",
    "\n",
    "        # Prepend year and parse dates\n",
    "        df['Date'] = df['Date'].apply(\n",
    "            lambda x: datetime.strptime(f\"{year} {x}\", \"%Y %d %b\")\n",
    "        )\n",
    "\n",
    "\n",
    "        df['Name'] = df['Name'].str.lower()\n",
    "        df['Type'] = df['Type'].str.lower()\n",
    "\n",
    "        df = df.drop_duplicates(['Date', 'Name', 'Type'])\n",
    "        \n",
    "        if 'Details' in df.columns:\n",
    "            df = df.drop(columns=['Details'])\n",
    "        \n",
    "        df.columns = ['date', 'name', 'type']\n",
    "        df_list.append(df.reset_index(drop=True))\n",
    "    return df_list\n"
   ]
  },
  {
   "cell_type": "code",
   "execution_count": null,
   "metadata": {},
   "outputs": [],
   "source": [
    "holiday_th_l = crawling_holiday('thailand')\n",
    "holiday_th_l[4]"
   ]
  },
  {
   "cell_type": "code",
   "execution_count": 16,
   "metadata": {},
   "outputs": [],
   "source": [
    "def plot_holiday(data, col_city, holiday_l):\n",
    "    import matplotlib.pyplot as plt\n",
    "    import pandas as pd\n",
    "    \n",
    "    # Extract year if not already present\n",
    "    if 'Year' not in data.columns:\n",
    "        data['Year'] = pd.to_datetime(data['date']).dt.year\n",
    "    \n",
    "    # Dynamically determine the number of unique years\n",
    "    unique_years = data['Year'].unique()\n",
    "    num_years = len(unique_years)\n",
    "    \n",
    "    # Create subplots based on the number of unique years\n",
    "    fig, axes = plt.subplots(num_years, 1, figsize=(15, 5*num_years), dpi=100)\n",
    "    if num_years == 1:\n",
    "        axes = [axes]  # Ensure axes is iterable when there's only one subplot\n",
    "    \n",
    "    fig.suptitle(col_city)\n",
    "    fig.tight_layout()\n",
    "    fig.subplots_adjust(top=0.97)\n",
    "    \n",
    "    for idx, y in enumerate(unique_years):\n",
    "        data_slice = data[data['Year'] == y]\n",
    "        data_slice = data_slice[['date', col_city]]\n",
    "        \n",
    "        # Use empty DataFrame for missing holiday data\n",
    "        if idx >= len(holiday_l):\n",
    "            holiday = pd.DataFrame(columns=['date', col_city])\n",
    "        else:\n",
    "            holiday = pd.merge(holiday_l[idx], data_slice, how='left', on='date')\n",
    "        \n",
    "        # Plot the data\n",
    "        axes[idx].plot(data_slice['date'], data_slice[col_city], marker='o')\n",
    "        axes[idx].plot(holiday['date'], holiday[col_city], marker='o', linestyle='none', color='red')\n",
    "        axes[idx].set_title(f\"Year: {y}\")\n"
   ]
  },
  {
   "cell_type": "code",
   "execution_count": null,
   "metadata": {},
   "outputs": [],
   "source": [
    "plot_holiday(data, 'bangkok_aqi', holiday_th_l)"
   ]
  },
  {
   "cell_type": "code",
   "execution_count": null,
   "metadata": {},
   "outputs": [],
   "source": [
    "season_bangkok_dict = {1: 'Hot & Cool',\n",
    "                       2: 'Hot & Cool',\n",
    "                       3: 'Hot & Cool',\n",
    "                       4: 'Hot',\n",
    "                       5: 'Rainy',\n",
    "                       6: 'Rainy',\n",
    "                       7: 'Rainy',\n",
    "                       8: 'Rainy',\n",
    "                       9: 'Rainy',\n",
    "                       10: 'Rainy',\n",
    "                       11: 'Hot & Cool',\n",
    "                       12: 'Hot & Cool'}\n",
    "season_bangkok = pd.DataFrame(data.date, columns=['date'])\n",
    "season_bangkok = extract_ymd(season_bangkok)\n",
    "season_bangkok['season'] = season_bangkok.Month.map(season_bangkok_dict)\n",
    "\n",
    "season_bangkok.head()"
   ]
  },
  {
   "cell_type": "code",
   "execution_count": 19,
   "metadata": {},
   "outputs": [],
   "source": [
    "def plot_season(data, col_city, season_city):\n",
    "    import matplotlib.pyplot as plt\n",
    "    import seaborn as sns\n",
    "    import pandas as pd\n",
    "\n",
    "    # Dynamically determine the number of unique years\n",
    "    unique_years = data['Year'].unique()\n",
    "    num_years = len(unique_years)\n",
    "    \n",
    "    # Create subplots based on the number of unique years\n",
    "    fig, axes = plt.subplots(num_years, 1, figsize=(15, 5*num_years), dpi=100)\n",
    "    if num_years == 1:\n",
    "        axes = [axes]  # Ensure axes is iterable when there's only one subplot\n",
    "    \n",
    "    fig.suptitle(col_city)\n",
    "    fig.tight_layout()\n",
    "    fig.subplots_adjust(top=0.97)\n",
    "    \n",
    "    for idx, y in enumerate(unique_years):\n",
    "        data_slice = data[data['Year'] == y]\n",
    "        data_slice = data_slice[['date', col_city]]\n",
    "        \n",
    "        # Filter the season data for the current year\n",
    "        season_slice = season_city[season_city['Year'] == y]\n",
    "        \n",
    "        # Merge the season data with the AQI data\n",
    "        s = pd.merge(season_slice, data_slice, how='left', on='date')\n",
    "        \n",
    "        # Plot the data\n",
    "        sns.lineplot(x=s['date'], y=s[col_city], hue=s['season'], marker='o', ax=axes[idx])\n",
    "        axes[idx].set_title(f\"Year: {y}\")\n"
   ]
  },
  {
   "cell_type": "code",
   "execution_count": null,
   "metadata": {},
   "outputs": [],
   "source": [
    "plot_season(data, 'bangkok_aqi', season_bangkok)"
   ]
  },
  {
   "cell_type": "code",
   "execution_count": null,
   "metadata": {},
   "outputs": [],
   "source": [
    "from statsmodels.tsa.stattools import adfuller\n",
    "\n",
    "data.head()"
   ]
  },
  {
   "cell_type": "code",
   "execution_count": null,
   "metadata": {},
   "outputs": [],
   "source": [
    "data = data.dropna()\n",
    "data.head()"
   ]
  },
  {
   "cell_type": "code",
   "execution_count": null,
   "metadata": {},
   "outputs": [],
   "source": [
    "import matplotlib.pyplot as plt\n",
    "\n",
    "data['bangkok_aqi'].plot(color = 'green', figsize = (15,4))\n",
    "plt.title('AQI')"
   ]
  },
  {
   "cell_type": "code",
   "execution_count": null,
   "metadata": {},
   "outputs": [],
   "source": [
    "adf_res = adfuller(data['bangkok_aqi'], autolag= 'AIC')\n",
    "print('p-Values:' + str(adf_res[1]))"
   ]
  },
  {
   "cell_type": "code",
   "execution_count": null,
   "metadata": {},
   "outputs": [],
   "source": [
    "data['bangkok_aqi_diff'] = data['bangkok_aqi'].diff()\n",
    "data['bangkok_aqi_diff'].plot(color = 'green', figsize = (15,4))\n",
    "plt.title('AQI (diff)')\n",
    "\n",
    "adf_res = adfuller(data['bangkok_aqi_diff'].dropna(), autolag = 'AIC')\n",
    "print('p-Values:' + str(adf_res[1]))"
   ]
  },
  {
   "cell_type": "code",
   "execution_count": null,
   "metadata": {},
   "outputs": [],
   "source": [
    "data.head()"
   ]
  },
  {
   "cell_type": "code",
   "execution_count": null,
   "metadata": {},
   "outputs": [],
   "source": [
    "data = data.dropna()\n",
    "data.head()"
   ]
  },
  {
   "cell_type": "code",
   "execution_count": null,
   "metadata": {},
   "outputs": [],
   "source": [
    "from statsmodels.graphics.tsaplots import plot_pacf\n",
    "from statsmodels.tsa.stattools import pacf\n",
    "\n",
    "df_pacf = pacf(data['bangkok_aqi'].dropna(), method ='ols')\n",
    "for i in range(0, len(df_pacf)):\n",
    "    if df_pacf[i] < 1.96 / np.sqrt(len(data['bangkok_aqi'])):\n",
    "        print('p=', i-1)\n",
    "        break"
   ]
  },
  {
   "cell_type": "code",
   "execution_count": null,
   "metadata": {},
   "outputs": [],
   "source": [
    "#Test order\n",
    "import itertools\n",
    "\n",
    "p = range(1, 2)\n",
    "d = range(1, 2)\n",
    "q = range(0, 4)\n",
    "pdq = list(itertools.product(p, d, q))\n",
    "print(pdq)\n",
    "\n",
    "import statsmodels.api as sm\n",
    "\n",
    "aic = []\n",
    "\n",
    "for param in pdq:\n",
    "    try:\n",
    "        model = sm.tsa.arima.ARIMA(data['bangkok_aqi'].dropna(), order = param)\n",
    "        results = model.fit()\n",
    "        print('Order = {}'.format(param))\n",
    "        print('AIC = {}'.format(results.aic))\n",
    "        a = 'Order: '+str(param) +' AIC: ' + str(results.aic)\n",
    "        aic.append(a)\n",
    "    except:\n",
    "        continue"
   ]
  },
  {
   "cell_type": "code",
   "execution_count": null,
   "metadata": {},
   "outputs": [],
   "source": [
    "#ARIMA model\n",
    "model = sm.tsa.arima.ARIMA(data['bangkok_aqi'], order = (1, 1, 3))\n",
    "results = model.fit()\n",
    "print(results.summary())\n",
    "\n",
    "#Prediction\n",
    "plt.figsize = (25,10)\n",
    "plt.plot(data['bangkok_aqi_diff'], color = 'green', label = 'Actual diff')\n",
    "plt.plot(results.predict(), color= 'orange', label = 'Predicted diff')\n",
    "plt.legend()"
   ]
  },
  {
   "cell_type": "code",
   "execution_count": null,
   "metadata": {},
   "outputs": [],
   "source": [
    "prediction = pd.DataFrame(results.predict(), columns = ['Predicted'])\n",
    "df_pred = pd.merge(data, prediction, how = 'left', left_index = True, right_index = True)\n",
    "df_pred['Predicted_close'] = df_pred['bangkok_aqi'] + df_pred['Predicted'].shift(-1)\n",
    "df_pred['Predicted_close'] = df_pred['Predicted_close'].shift(1).fillna(data['bangkok_aqi'])\n",
    "plt.figure(figsize=(20, 6))\n",
    "plt.plot(df_pred['bangkok_aqi'], color = 'green', label = 'Actual close')\n",
    "plt.legend()\n",
    "plt.figure(figsize=(20, 6))\n",
    "plt.plot(df_pred['Predicted_close'], color='orange', label = 'Predicted close')\n",
    "plt.legend()\n",
    "\n",
    "#Performance\n",
    "from sklearn.metrics import mean_squared_error\n",
    "\n",
    "mean_squared_error(df_pred['bangkok_aqi'], df_pred['Predicted_close'])"
   ]
  },
  {
   "cell_type": "code",
   "execution_count": null,
   "metadata": {},
   "outputs": [],
   "source": [
    "data.head()"
   ]
  },
  {
   "cell_type": "code",
   "execution_count": null,
   "metadata": {},
   "outputs": [],
   "source": [
    "data = data.set_index('date')\n",
    "df = data['bangkok_aqi'].to_frame()\n",
    "df.tail(5)"
   ]
  },
  {
   "cell_type": "code",
   "execution_count": null,
   "metadata": {},
   "outputs": [],
   "source": [
    "df['SMA7'] = df['bangkok_aqi'].rolling(7).mean()\n",
    "df.dropna(inplace=True)\n",
    "df.head()"
   ]
  },
  {
   "cell_type": "code",
   "execution_count": null,
   "metadata": {},
   "outputs": [],
   "source": [
    "df[['bangkok_aqi', 'SMA7']].plot(label='bangkok_aqi', \n",
    "                                  figsize=(20, 6))"
   ]
  },
  {
   "cell_type": "code",
   "execution_count": null,
   "metadata": {},
   "outputs": [],
   "source": [
    "from sklearn.metrics import mean_squared_error\n",
    "from math import sqrt\n",
    "rms = sqrt(mean_squared_error(df.bangkok_aqi, df.SMA7))\n",
    "print(rms)"
   ]
  },
  {
   "cell_type": "code",
   "execution_count": null,
   "metadata": {},
   "outputs": [],
   "source": [
    "from statsmodels.tsa.api import ExponentialSmoothing, SimpleExpSmoothing, Holt\n",
    "fit2 = SimpleExpSmoothing(np.asarray(df['SMA7'])).fit(smoothing_level=0.6,optimized=False)\n",
    "df['SES'] = fit2.forecast(len(df))\n",
    "plt.figure(figsize=(20,8))\n",
    "plt.plot(df['SMA7'], label='SMA7')\n",
    "plt.plot(df['bangkok_aqi'], label='bangkok_aqi')\n",
    "plt.plot(df['SES'], label='SES')\n",
    "plt.legend(loc='best')\n",
    "plt.show()"
   ]
  },
  {
   "cell_type": "code",
   "execution_count": null,
   "metadata": {},
   "outputs": [],
   "source": [
    "import numpy as np\n",
    "\n",
    "# Filter data for the year 2025\n",
    "data_2025 = data[data['Year'] == 2025].reset_index()\n",
    "\n",
    "# Plot the data for the year 2025\n",
    "plt.figure(figsize=(15, 6))\n",
    "sns.lineplot(data=data_2025, x='date', y='bangkok_aqi')\n",
    "plt.title('Bangkok AQI for the Year 2025')\n",
    "plt.xlabel('Date')\n",
    "plt.ylabel('AQI')\n",
    "plt.show()\n",
    "\n",
    "# Forecast the next 30 days\n",
    "forecast = results.get_forecast(steps=30)\n",
    "forecast_dates = pd.date_range(start=data_2025['date'].max() + pd.Timedelta(days=1), periods=30)\n",
    "\n",
    "# Sample from the forecasted distribution\n",
    "forecast_values = forecast.predicted_mean  # Mean values\n",
    "forecast_std_errors = forecast.se_mean     # Standard errors\n",
    "\n",
    "# Generate \"exact\" forecasted data by sampling\n",
    "exact_forecast_values = np.random.normal(loc=forecast_values, scale=forecast_std_errors)\n",
    "\n",
    "# Confidence intervals\n",
    "conf_int = forecast.conf_int(alpha=0.05)\n",
    "\n",
    "# Create a DataFrame for forecasted values\n",
    "forecast_df = pd.DataFrame({\n",
    "    'date': forecast_dates,\n",
    "    'forecasted_aqi': exact_forecast_values,  # Sampled values\n",
    "    'lower_bound': conf_int.iloc[:, 0],\n",
    "    'upper_bound': conf_int.iloc[:, 1]\n",
    "})\n",
    "\n",
    "# Plot the actual and forecasted AQI\n",
    "plt.figure(figsize=(15, 6))\n",
    "sns.lineplot(data=data_2025, x='date', y='bangkok_aqi', label='Actual AQI')\n",
    "sns.lineplot(data=forecast_df, x='date', y='forecasted_aqi', label='Sampled Forecasted AQI', color='red')\n",
    "plt.fill_between(forecast_df['date'], forecast_df['lower_bound'], forecast_df['upper_bound'], color='red', alpha=0.2, label='Confidence Interval')\n",
    "plt.title('Bangkok AQI for the Year 2025 with Forecast')\n",
    "plt.xlabel('Date')\n",
    "plt.ylabel('AQI')\n",
    "plt.legend()\n",
    "plt.show()\n"
   ]
  },
  {
   "cell_type": "code",
   "execution_count": null,
   "metadata": {},
   "outputs": [],
   "source": [
    "data.describe()"
   ]
  }
 ],
 "metadata": {
  "kernelspec": {
   "display_name": ".venv",
   "language": "python",
   "name": "python3"
  },
  "language_info": {
   "codemirror_mode": {
    "name": "ipython",
    "version": 3
   },
   "file_extension": ".py",
   "mimetype": "text/x-python",
   "name": "python",
   "nbconvert_exporter": "python",
   "pygments_lexer": "ipython3",
   "version": "3.12.4"
  }
 },
 "nbformat": 4,
 "nbformat_minor": 2
}
